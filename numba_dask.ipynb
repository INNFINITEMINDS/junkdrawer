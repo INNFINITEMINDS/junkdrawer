{
 "cells": [
  {
   "cell_type": "markdown",
   "metadata": {},
   "source": [
    "## Easy efficiency with `numba` and `dask`"
   ]
  },
  {
   "cell_type": "markdown",
   "metadata": {},
   "source": [
    "This is a toy notebook with code taken directly from [this blog post](https://medium.com/capital-one-developers/dask-numba-for-efficient-in-memory-model-scoring-dfc9b68ba6ce) on Medium. The idea was to efficiently combine the various function decorators provided by the `numba` and `dask` libraries to improve computation efficiency non-invasively."
   ]
  },
  {
   "cell_type": "code",
   "execution_count": 8,
   "metadata": {},
   "outputs": [],
   "source": [
    "import numpy as np\n",
    "import pandas as pd\n",
    "from numba import jit, guvectorize\n",
    "from dask import delayed"
   ]
  },
  {
   "cell_type": "code",
   "execution_count": 4,
   "metadata": {
    "collapsed": true
   },
   "outputs": [],
   "source": [
    "# simple toy function for simple model\n",
    "def predict_over_time(x, y, z, overlay=False):\n",
    "    \"Predicts a quantity at times = 0, 1, ... 14\"\n",
    "    out = np.zeros((x.shape[0], 15))\n",
    "    for t in range(15):\n",
    "        out[:, t] = t * x ** 2 + y - 2 * z - 2 * t\n",
    "    adj = 1.5 if overlay else 1.0\n",
    "    return adj * out"
   ]
  },
  {
   "cell_type": "code",
   "execution_count": 6,
   "metadata": {
    "collapsed": true
   },
   "outputs": [],
   "source": [
    "@jit\n",
    "def jitted_predict_over_time(x, y, z, overlay = False):\n",
    "    \"Predicts a quantity at times = 0, 1, ... 14\"\n",
    "    out = np.zeros((x.shape[0], 15))\n",
    "    for t in range(15):\n",
    "        out[:, t] = t * x ** 2 + y - 2 * z - 2 * t\n",
    "    adj = 1.5 if overlay else 1.0\n",
    "    return adj * out"
   ]
  },
  {
   "cell_type": "code",
   "execution_count": 19,
   "metadata": {},
   "outputs": [
    {
     "data": {
      "text/html": [
       "<div>\n",
       "<style>\n",
       "    .dataframe thead tr:only-child th {\n",
       "        text-align: right;\n",
       "    }\n",
       "\n",
       "    .dataframe thead th {\n",
       "        text-align: left;\n",
       "    }\n",
       "\n",
       "    .dataframe tbody tr th {\n",
       "        vertical-align: top;\n",
       "    }\n",
       "</style>\n",
       "<table border=\"1\" class=\"dataframe\">\n",
       "  <thead>\n",
       "    <tr style=\"text-align: right;\">\n",
       "      <th></th>\n",
       "      <th>u</th>\n",
       "      <th>x</th>\n",
       "      <th>y</th>\n",
       "      <th>z</th>\n",
       "    </tr>\n",
       "  </thead>\n",
       "  <tbody>\n",
       "    <tr>\n",
       "      <th>0</th>\n",
       "      <td>0.112347</td>\n",
       "      <td>8</td>\n",
       "      <td>-0.433749</td>\n",
       "      <td>0.388892</td>\n",
       "    </tr>\n",
       "    <tr>\n",
       "      <th>1</th>\n",
       "      <td>0.802518</td>\n",
       "      <td>5</td>\n",
       "      <td>0.224678</td>\n",
       "      <td>-0.331499</td>\n",
       "    </tr>\n",
       "    <tr>\n",
       "      <th>2</th>\n",
       "      <td>0.098574</td>\n",
       "      <td>6</td>\n",
       "      <td>-0.334008</td>\n",
       "      <td>-0.079211</td>\n",
       "    </tr>\n",
       "    <tr>\n",
       "      <th>3</th>\n",
       "      <td>0.560828</td>\n",
       "      <td>6</td>\n",
       "      <td>0.080884</td>\n",
       "      <td>-1.283361</td>\n",
       "    </tr>\n",
       "    <tr>\n",
       "      <th>4</th>\n",
       "      <td>0.727090</td>\n",
       "      <td>5</td>\n",
       "      <td>1.071648</td>\n",
       "      <td>-0.306963</td>\n",
       "    </tr>\n",
       "  </tbody>\n",
       "</table>\n",
       "</div>"
      ],
      "text/plain": [
       "          u  x         y         z\n",
       "0  0.112347  8 -0.433749  0.388892\n",
       "1  0.802518  5  0.224678 -0.331499\n",
       "2  0.098574  6 -0.334008 -0.079211\n",
       "3  0.560828  6  0.080884 -1.283361\n",
       "4  0.727090  5  1.071648 -0.306963"
      ]
     },
     "execution_count": 19,
     "metadata": {},
     "output_type": "execute_result"
    }
   ],
   "source": [
    "# simulate toy data\n",
    "# create some artificial inputs\n",
    "n = 25000\n",
    "u = np.random.random(n)\n",
    "x = np.random.poisson(lam = 5, size = n)\n",
    "y, z = np.random.normal(size = (n, 2)).T\n",
    "\n",
    "# data dict\n",
    "data_dict = {'u': u,\n",
    "             'x': x,\n",
    "             'y': y,\n",
    "             'z': z}\n",
    "\n",
    "# DataFrame\n",
    "data = pd.DataFrame(data = data_dict)\n",
    "data.head()"
   ]
  },
  {
   "cell_type": "code",
   "execution_count": 20,
   "metadata": {},
   "outputs": [
    {
     "name": "stdout",
     "output_type": "stream",
     "text": [
      "9.46 ms ± 422 µs per loop (mean ± std. dev. of 7 runs, 100 loops each)\n"
     ]
    }
   ],
   "source": [
    "%%timeit -n 100\n",
    "out_normal = predict_over_time(x, y, z) # 100 loops, best of 3: 3.28 ms per loop"
   ]
  },
  {
   "cell_type": "code",
   "execution_count": 21,
   "metadata": {},
   "outputs": [
    {
     "name": "stdout",
     "output_type": "stream",
     "text": [
      "6.55 ms ± 2.7 ms per loop (mean ± std. dev. of 7 runs, 100 loops each)\n"
     ]
    }
   ],
   "source": [
    "%%timeit -n 100\n",
    "out_jitted = jitted_func(x, y, z) # 100 loops, best of 3: 2.27 ms per loop"
   ]
  },
  {
   "cell_type": "markdown",
   "metadata": {},
   "source": [
    "Using the `@jit` decorator from `numba` improves efficiency with effectively no change to the function written above. `@jit` works by inferring types of inputs at run time, compiling the function accordingly."
   ]
  },
  {
   "cell_type": "code",
   "execution_count": 24,
   "metadata": {
    "collapsed": true
   },
   "outputs": [],
   "source": [
    "@guvectorize('i8, f8, f8, b1, f8[:], f8[:]',\n",
    "             '(), (), (), (), (s) -> (s)')\n",
    "def fast_predict_over_time(x, y, z, overlay, _, out):\n",
    "    adj = 1.5 if overlay else 1.0\n",
    "    for t in range(len(out)):\n",
    "        out[t] = adj * (t * x ** 2 + y - 2 * z - 2 * t)\n",
    "\n",
    "res = np.zeros((n, 15))"
   ]
  },
  {
   "cell_type": "markdown",
   "metadata": {},
   "source": [
    "* Note that the `@guvectorize` decorator requires that we specify the types of all arguments as well as the shape of the output.\n",
    "\n",
    "* This works by implementing the function over rows of the input (i.e., equivalent to calling `apply(OBJ, 1, FUN)` in `R`).\n",
    "\n",
    "* Due to the internals of how `@guvectorize` implements the compilation of the function, minor aspects of the function need to be rewritten (compare with the above for reference), though the \"feel\" of implementing the function is still natural since we need only think of how the computation is to be implemented over a single row.\n",
    "\n",
    "* Additionally, note that, breaking with standard Pythonic style, the function now lacks an explicit `return` statement and also requires that the output object be pre-allocated and passed in as an argument."
   ]
  },
  {
   "cell_type": "code",
   "execution_count": 25,
   "metadata": {},
   "outputs": [
    {
     "name": "stdout",
     "output_type": "stream",
     "text": [
      "1.2 ms ± 132 µs per loop (mean ± std. dev. of 7 runs, 100 loops each)\n"
     ]
    }
   ],
   "source": [
    "%%timeit -n 100\n",
    "_ = fast_predict_over_time(x, y, z, False, res) # 100 loops, best of 3: 575 µs per loop"
   ]
  },
  {
   "cell_type": "markdown",
   "metadata": {},
   "source": [
    "## `Dask` applied to `numba`"
   ]
  },
  {
   "cell_type": "markdown",
   "metadata": {},
   "source": [
    "`Dask` is a library that allows for delayed evaluation of complex task graphs. It has made \"within-core\" analysis of Big Data possible."
   ]
  },
  {
   "cell_type": "code",
   "execution_count": 27,
   "metadata": {},
   "outputs": [],
   "source": [
    "# won't be evaluated until we call .compute()\n",
    "fast_predict_over_time = delayed(fast_predict_over_time)"
   ]
  },
  {
   "cell_type": "code",
   "execution_count": 29,
   "metadata": {},
   "outputs": [
    {
     "name": "stdout",
     "output_type": "stream",
     "text": [
      "2.04 ms ± 186 µs per loop (mean ± std. dev. of 7 runs, 100 loops each)\n"
     ]
    }
   ],
   "source": [
    "%%timeit -n 100\n",
    "## using the same numpy arrays from above...\n",
    "_ = fast_predict_over_time(x, y, z, False, res).compute()\n",
    "# 100 loops, best of 3: 1.04 ms per loop"
   ]
  }
 ],
 "metadata": {
  "kernelspec": {
   "display_name": "Python 3",
   "language": "python",
   "name": "python3"
  },
  "language_info": {
   "codemirror_mode": {
    "name": "ipython",
    "version": 3
   },
   "file_extension": ".py",
   "mimetype": "text/x-python",
   "name": "python",
   "nbconvert_exporter": "python",
   "pygments_lexer": "ipython3",
   "version": "3.6.3"
  }
 },
 "nbformat": 4,
 "nbformat_minor": 2
}
